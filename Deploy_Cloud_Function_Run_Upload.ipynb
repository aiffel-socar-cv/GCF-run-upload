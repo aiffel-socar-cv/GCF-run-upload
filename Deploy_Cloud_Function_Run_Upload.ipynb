{
  "nbformat": 4,
  "nbformat_minor": 0,
  "metadata": {
    "colab": {
      "name": "Deploy_Cloud_Function-Run_Upload.ipynb",
      "provenance": [],
      "collapsed_sections": []
    },
    "kernelspec": {
      "name": "python3",
      "display_name": "Python 3"
    },
    "language_info": {
      "name": "python"
    }
  },
  "cells": [
    {
      "cell_type": "markdown",
      "metadata": {
        "id": "APTB6TKyZuG5"
      },
      "source": [
        "# Deploy Trigger Funtion - `run_upload`"
      ]
    },
    {
      "cell_type": "markdown",
      "metadata": {
        "id": "QPQ78f-0Zkz7"
      },
      "source": [
        "Reference: \n",
        "- [tutorials/storage](https://cloud.google.com/functions/docs/tutorials/storage)\n",
        "- [Cloud SDK on Colab](https://colab.research.google.com/github/tensorflow/cloud/blob/master/g3doc/tutorials/google_cloud_project_setup_instructions.ipynb#scrollTo=WPew3GoCcdtm)"
      ]
    },
    {
      "cell_type": "code",
      "metadata": {
        "id": "bmEQFi9yGCAb"
      },
      "source": [
        "GCP_PROJECT_ID = 'aiffel-gn-3'\n",
        "PROJECT_NUMBER = '513837032574'"
      ],
      "execution_count": 1,
      "outputs": []
    },
    {
      "cell_type": "code",
      "metadata": {
        "id": "vWM0aaJ2HbzA"
      },
      "source": [
        "import sys\n",
        "if \"google.colab\" in sys.modules:\n",
        "    from google.colab import auth\n",
        "    auth.authenticate_user()"
      ],
      "execution_count": 2,
      "outputs": []
    },
    {
      "cell_type": "code",
      "metadata": {
        "colab": {
          "base_uri": "https://localhost:8080/"
        },
        "id": "Ws4ycCROH4m8",
        "outputId": "436a738c-4cb6-44b7-feb3-f3d862d034ae"
      },
      "source": [
        "# !gcloud components update\n"
      ],
      "execution_count": null,
      "outputs": [
        {
          "output_type": "stream",
          "name": "stdout",
          "text": [
            "\u001b[1;31mERROR:\u001b[0m (gcloud.components.update) The components management action could not be performed because the installation root of the Cloud SDK could not be located. If you previously used the Cloud SDK installer, you could re-install the SDK and retry again.\n"
          ]
        }
      ]
    },
    {
      "cell_type": "code",
      "metadata": {
        "colab": {
          "base_uri": "https://localhost:8080/"
        },
        "id": "3TL-UtQtJzGx",
        "outputId": "e5447562-b6d2-440a-9772-f3093a1839c1"
      },
      "source": [
        "!gcloud auth login\n"
      ],
      "execution_count": 3,
      "outputs": [
        {
          "output_type": "stream",
          "name": "stdout",
          "text": [
            "Go to the following link in your browser:\n",
            "\n",
            "    https://accounts.google.com/o/oauth2/auth?response_type=code&client_id=32555940559.apps.googleusercontent.com&redirect_uri=urn%3Aietf%3Awg%3Aoauth%3A2.0%3Aoob&scope=openid+https%3A%2F%2Fwww.googleapis.com%2Fauth%2Fuserinfo.email+https%3A%2F%2Fwww.googleapis.com%2Fauth%2Fcloud-platform+https%3A%2F%2Fwww.googleapis.com%2Fauth%2Fappengine.admin+https%3A%2F%2Fwww.googleapis.com%2Fauth%2Fcompute+https%3A%2F%2Fwww.googleapis.com%2Fauth%2Faccounts.reauth&state=aBMKN4SKow6wA65BzrsD17r9ZN0TWA&prompt=consent&access_type=offline&code_challenge=ZgIKG1hwChV-XBKov05vhRgA5nPIBQBXjPHP1JGQgKE&code_challenge_method=S256\n",
            "\n",
            "Enter verification code: 4/1AX4XfWjgdhmwtwK285f_K7f3fEIZL0MvdIsOMMIAlW5a2Qi1RmXi_CsCPNc\n",
            "\n",
            "You are now logged in as [jieun.jeon.818@gmail.com].\n",
            "Your current project is [None].  You can change this setting by running:\n",
            "  $ gcloud config set project PROJECT_ID\n"
          ]
        }
      ]
    },
    {
      "cell_type": "code",
      "metadata": {
        "colab": {
          "base_uri": "https://localhost:8080/"
        },
        "id": "Tu1Edxc9KAGr",
        "outputId": "c2aef4c4-a68a-41b7-8e2a-5af9c79124d7"
      },
      "source": [
        "!gcloud config set project aiffel-gn-3"
      ],
      "execution_count": 4,
      "outputs": [
        {
          "output_type": "stream",
          "name": "stdout",
          "text": [
            "Updated property [core/project].\n"
          ]
        }
      ]
    },
    {
      "cell_type": "code",
      "metadata": {
        "colab": {
          "base_uri": "https://localhost:8080/"
        },
        "id": "z-DVZGYZIlnu",
        "outputId": "3f4dda35-a05b-4ef7-e6dc-ef83dd22a94b"
      },
      "source": [
        "!gsutil mb gs://gs-test2"
      ],
      "execution_count": null,
      "outputs": [
        {
          "output_type": "stream",
          "name": "stdout",
          "text": [
            "Creating gs://gs-test2/...\n",
            "ServiceException: 409 A Cloud Storage bucket named 'gs-test2' already exists. Try another name. Bucket names must be globally unique across all Google Cloud projects, including those outside of your organization.\n"
          ]
        }
      ]
    },
    {
      "cell_type": "code",
      "metadata": {
        "colab": {
          "base_uri": "https://localhost:8080/"
        },
        "id": "2vry-bibvph9",
        "outputId": "f11481b0-6253-4c26-e640-ff1d17308c7d"
      },
      "source": [
        "%cd ../"
      ],
      "execution_count": 11,
      "outputs": [
        {
          "output_type": "stream",
          "name": "stdout",
          "text": [
            "/content\n"
          ]
        }
      ]
    },
    {
      "cell_type": "code",
      "metadata": {
        "id": "j8FNh97ptg-F"
      },
      "source": [
        "!rm -rf GCF-run-upload/"
      ],
      "execution_count": 12,
      "outputs": []
    },
    {
      "cell_type": "code",
      "metadata": {
        "colab": {
          "base_uri": "https://localhost:8080/"
        },
        "id": "002KGBpEOlO2",
        "outputId": "86dc3289-5587-46b1-b193-9847e2cb8b7e"
      },
      "source": [
        "!git clone https://github.com/aiffel-socar-cv/GCF-run-upload.git"
      ],
      "execution_count": 13,
      "outputs": [
        {
          "output_type": "stream",
          "name": "stdout",
          "text": [
            "Cloning into 'GCF-run-upload'...\n",
            "remote: Enumerating objects: 36, done.\u001b[K\n",
            "remote: Counting objects:   2% (1/36)\u001b[K\rremote: Counting objects:   5% (2/36)\u001b[K\rremote: Counting objects:   8% (3/36)\u001b[K\rremote: Counting objects:  11% (4/36)\u001b[K\rremote: Counting objects:  13% (5/36)\u001b[K\rremote: Counting objects:  16% (6/36)\u001b[K\rremote: Counting objects:  19% (7/36)\u001b[K\rremote: Counting objects:  22% (8/36)\u001b[K\rremote: Counting objects:  25% (9/36)\u001b[K\rremote: Counting objects:  27% (10/36)\u001b[K\rremote: Counting objects:  30% (11/36)\u001b[K\rremote: Counting objects:  33% (12/36)\u001b[K\rremote: Counting objects:  36% (13/36)\u001b[K\rremote: Counting objects:  38% (14/36)\u001b[K\rremote: Counting objects:  41% (15/36)\u001b[K\rremote: Counting objects:  44% (16/36)\u001b[K\rremote: Counting objects:  47% (17/36)\u001b[K\rremote: Counting objects:  50% (18/36)\u001b[K\rremote: Counting objects:  52% (19/36)\u001b[K\rremote: Counting objects:  55% (20/36)\u001b[K\rremote: Counting objects:  58% (21/36)\u001b[K\rremote: Counting objects:  61% (22/36)\u001b[K\rremote: Counting objects:  63% (23/36)\u001b[K\rremote: Counting objects:  66% (24/36)\u001b[K\rremote: Counting objects:  69% (25/36)\u001b[K\rremote: Counting objects:  72% (26/36)\u001b[K\rremote: Counting objects:  75% (27/36)\u001b[K\rremote: Counting objects:  77% (28/36)\u001b[K\rremote: Counting objects:  80% (29/36)\u001b[K\rremote: Counting objects:  83% (30/36)\u001b[K\rremote: Counting objects:  86% (31/36)\u001b[K\rremote: Counting objects:  88% (32/36)\u001b[K\rremote: Counting objects:  91% (33/36)\u001b[K\rremote: Counting objects:  94% (34/36)\u001b[K\rremote: Counting objects:  97% (35/36)\u001b[K\rremote: Counting objects: 100% (36/36)\u001b[K\rremote: Counting objects: 100% (36/36), done.\u001b[K\n",
            "remote: Compressing objects: 100% (24/24), done.\u001b[K\n",
            "remote: Total 36 (delta 12), reused 31 (delta 7), pack-reused 0\u001b[K\n",
            "Unpacking objects: 100% (36/36), done.\n"
          ]
        }
      ]
    },
    {
      "cell_type": "code",
      "metadata": {
        "colab": {
          "base_uri": "https://localhost:8080/"
        },
        "id": "ZrjfGCusUzVY",
        "outputId": "f1efbf62-77a3-4eb9-c3b7-e8dc8bb0a239"
      },
      "source": [
        "%cd GCF-run-upload"
      ],
      "execution_count": 14,
      "outputs": [
        {
          "output_type": "stream",
          "name": "stdout",
          "text": [
            "/content/GCF-run-upload\n"
          ]
        }
      ]
    },
    {
      "cell_type": "code",
      "metadata": {
        "colab": {
          "base_uri": "https://localhost:8080/"
        },
        "id": "WjLginUCU6Jx",
        "outputId": "98ed7023-456f-4db3-a0d5-10e1e582ac1f"
      },
      "source": [
        "!ls"
      ],
      "execution_count": 15,
      "outputs": [
        {
          "output_type": "stream",
          "name": "stdout",
          "text": [
            "main.py  README.md  requirements.txt  sample_images\n"
          ]
        }
      ]
    },
    {
      "cell_type": "markdown",
      "metadata": {
        "id": "0NKW9qIeWChE"
      },
      "source": [
        "## Deploy `run_upload` function to Cloud Function"
      ]
    },
    {
      "cell_type": "code",
      "metadata": {
        "colab": {
          "base_uri": "https://localhost:8080/"
        },
        "id": "I-VZ227LTN2c",
        "outputId": "c52709ea-86f6-4421-e992-9e8abd34d621"
      },
      "source": [
        "!gcloud functions deploy run_upload \\\n",
        "--runtime python39 \\\n",
        "--trigger-resource images-original \\\n",
        "--trigger-event google.storage.object.finalize"
      ],
      "execution_count": null,
      "outputs": [
        {
          "output_type": "stream",
          "name": "stdout",
          "text": [
            "Created .gcloudignore file. See `gcloud topic gcloudignore` for details.\n",
            "\n",
            "For Cloud Build Logs, visit: https://console.cloud.google.com/cloud-build/builds;region=us-central1/d762e934-a184-4ceb-8785-e812ae367681?project=513837032574\n"
          ]
        }
      ]
    },
    {
      "cell_type": "markdown",
      "metadata": {
        "id": "AWZTx-tTWKm8"
      },
      "source": [
        "## Test - uploading an empty .txt file\n",
        "Checking if the function is triggered correctly when new txt file is uploaded to `images-original` bucket"
      ]
    },
    {
      "cell_type": "markdown",
      "metadata": {
        "id": "L6gV2GafWroc"
      },
      "source": [
        "run below commands under `trigger-run-upload/` directory. (`gcf-test.txt`)"
      ]
    },
    {
      "cell_type": "code",
      "metadata": {
        "colab": {
          "base_uri": "https://localhost:8080/",
          "height": 37
        },
        "id": "sJWAS05_sSoV",
        "outputId": "ab7d9584-b8bc-43c9-b453-f148079a233c"
      },
      "source": [
        "str = \"originals/test.jpg\"\n",
        "tmp = str.split(\"/\")\n",
        "tmp[-1]"
      ],
      "execution_count": null,
      "outputs": [
        {
          "output_type": "execute_result",
          "data": {
            "application/vnd.google.colaboratory.intrinsic+json": {
              "type": "string"
            },
            "text/plain": [
              "'test.jpg'"
            ]
          },
          "metadata": {},
          "execution_count": 24
        }
      ]
    },
    {
      "cell_type": "code",
      "metadata": {
        "colab": {
          "base_uri": "https://localhost:8080/"
        },
        "id": "WxUIw4fqWWct",
        "outputId": "001a8025-c1bd-4021-ea80-40162252d2e4"
      },
      "source": [
        "!gsutil cp sample_images/input/img_0253.png gs://images-original/originals"
      ],
      "execution_count": 10,
      "outputs": [
        {
          "output_type": "stream",
          "name": "stdout",
          "text": [
            "Copying file://sample_images/input/img_0253.png [Content-Type=image/png]...\n",
            "/ [1 files][173.1 KiB/173.1 KiB]                                                \n",
            "Operation completed over 1 objects/173.1 KiB.                                    \n"
          ]
        }
      ]
    },
    {
      "cell_type": "code",
      "metadata": {
        "colab": {
          "base_uri": "https://localhost:8080/"
        },
        "id": "wdMA7CHTWezg",
        "outputId": "97ae951a-20c0-49e4-e65e-6c93caa9e6d7"
      },
      "source": [
        "!gcloud functions logs read --limit 50"
      ],
      "execution_count": null,
      "outputs": [
        {
          "output_type": "stream",
          "name": "stdout",
          "text": [
            "LEVEL  NAME        EXECUTION_ID  TIME_UTC                 LOG\n",
            "D      run_upload  9n7nxbpiiqcn  2021-12-07 06:51:00.536  Function execution took 6260 ms, finished with status: 'crash'\n",
            "E      run_upload  9n7nxbpiiqcn  2021-12-07 06:51:00.535  Traceback (most recent call last):\n",
            "                                                            File \"/layers/google.python.pip/pip/lib/python3.9/site-packages/flask/app.py\", line 2447, in wsgi_app\n",
            "                                                              response = self.full_dispatch_request()\n",
            "                                                            File \"/layers/google.python.pip/pip/lib/python3.9/site-packages/flask/app.py\", line 1952, in full_dispatch_request\n",
            "                                                              rv = self.handle_user_exception(e)\n",
            "                                                            File \"/layers/google.python.pip/pip/lib/python3.9/site-packages/flask/app.py\", line 1821, in handle_user_exception\n",
            "                                                              reraise(exc_type, exc_value, tb)\n",
            "                                                            File \"/layers/google.python.pip/pip/lib/python3.9/site-packages/flask/_compat.py\", line 39, in reraise\n",
            "                                                              raise value\n",
            "                                                            File \"/layers/google.python.pip/pip/lib/python3.9/site-packages/flask/app.py\", line 1950, in full_dispatch_request\n",
            "                                                              rv = self.dispatch_request()\n",
            "                                                            File \"/layers/google.python.pip/pip/lib/python3.9/site-packages/flask/app.py\", line 1936, in dispatch_request\n",
            "                                                              return self.view_functions[rule.endpoint](**req.view_args)\n",
            "                                                            File \"/layers/google.python.pip/pip/lib/python3.9/site-packages/functions_framework/__init__.py\", line 152, in view_func\n",
            "                                                              function(data, context)\n",
            "                                                            File \"/workspace/main.py\", line 54, in run_upload\n",
            "                                                              update_gcs(predictions)\n",
            "                                                            File \"/workspace/main.py\", line 108, in update_gcs\n",
            "                                                              output_dent_path = predictions.output_dent_path\n",
            "                                                          AttributeError: 'dict' object has no attribute 'output_dent_path'\n",
            "       run_upload  9n7nxbpiiqcn  2021-12-07 06:51:00.535  [2021-12-07 06:51:00,532] ERROR in app: Exception on /_ah/push-handlers/pubsub/projects/g08ee7bfc59c693acp-tp/topics/cloud-functions-uqmbnrrci664rlbpsfsnlufuim [POST]\n",
            "       run_upload  9n7nxbpiiqcn  2021-12-07 06:51:00.510  Predict_test:  ./sample_images/output/output_0253_dent.png\n",
            "       run_upload  9n7nxbpiiqcn  2021-12-07 06:51:00.510  Predict:  images-original/originals/img_0253.png\n",
            "       run_upload  9n7nxbpiiqcn  2021-12-07 06:51:00.510  success\n",
            "       run_upload  9n7nxbpiiqcn  2021-12-07 06:51:00.510  (Background on this error at: http://sqlalche.me/e/gkpj)\n",
            "       run_upload  9n7nxbpiiqcn  2021-12-07 06:51:00.510  [SQL: insert into entries (path_original, created_on, is_inferenced, is_inspected) values ('originals/img_0253.png', '2021-12-07T06:50:52.671Z', FALSE, FALSE)]\n",
            "       run_upload  9n7nxbpiiqcn  2021-12-07 06:51:00.510  Error: (pg8000.core.IntegrityError) {'S': 'ERROR', 'V': 'ERROR', 'C': '23505', 'M': 'duplicate key value violates unique constraint \"entries_path_original_key\"', 'D': 'Key (path_original)=(originals/img_0253.png) already exists.', 's': 'public', 't': 'entries', 'n': 'entries_path_original_key', 'F': 'nbtinsert.c', 'L': '656', 'R': '_bt_check_unique'}\n",
            "       run_upload  9n7nxbpiiqcn  2021-12-07 06:50:55.311  Updated: 2021-12-07T06:50:52.671Z\n",
            "       run_upload  9n7nxbpiiqcn  2021-12-07 06:50:55.311  Created: 2021-12-07T06:50:52.671Z\n",
            "       run_upload  9n7nxbpiiqcn  2021-12-07 06:50:55.311  Metageneration: 1\n",
            "       run_upload  9n7nxbpiiqcn  2021-12-07 06:50:55.311  File: originals/img_0253.png\n",
            "       run_upload  9n7nxbpiiqcn  2021-12-07 06:50:55.311  Bucket: images-original\n",
            "       run_upload  9n7nxbpiiqcn  2021-12-07 06:50:55.311  Event type: google.storage.object.finalize\n",
            "       run_upload  9n7nxbpiiqcn  2021-12-07 06:50:55.311  Event ID: 3492301367546234\n",
            "       run_upload  9n7nxbpiiqcn  2021-12-07 06:50:55.179  Predict_test:  ./sample_images/output/output_0253_dent.png\n",
            "       run_upload  9n7nxbpiiqcn  2021-12-07 06:50:55.179  Predict:  images-original/img_0253.png\n",
            "D      run_upload  9n7nxbpiiqcn  2021-12-07 06:50:54.278  Function execution started\n",
            "       run_upload                2021-12-07 06:49:54.413  Predict_test:  ./sample_images/output/output_0253_dent.png\n",
            "       run_upload                2021-12-07 06:49:54.413  Predict:  images-original/img_0253.png\n",
            "       run_upload                2021-12-07 06:34:12.965  Predict_test:  ./sample_images/output/output_0253_dent.png\n",
            "       run_upload                2021-12-07 06:34:12.965  Predict:  images-original/img_0253.png\n",
            "D      run_upload  kdq5whttxejw  2021-12-07 06:33:51.924  Function execution took 6246 ms, finished with status: 'crash'\n",
            "E      run_upload  kdq5whttxejw  2021-12-07 06:33:51.922  Traceback (most recent call last):\n",
            "                                                            File \"/layers/google.python.pip/pip/lib/python3.9/site-packages/flask/app.py\", line 2447, in wsgi_app\n",
            "                                                              response = self.full_dispatch_request()\n",
            "                                                            File \"/layers/google.python.pip/pip/lib/python3.9/site-packages/flask/app.py\", line 1952, in full_dispatch_request\n",
            "                                                              rv = self.handle_user_exception(e)\n",
            "                                                            File \"/layers/google.python.pip/pip/lib/python3.9/site-packages/flask/app.py\", line 1821, in handle_user_exception\n",
            "                                                              reraise(exc_type, exc_value, tb)\n",
            "                                                            File \"/layers/google.python.pip/pip/lib/python3.9/site-packages/flask/_compat.py\", line 39, in reraise\n",
            "                                                              raise value\n",
            "                                                            File \"/layers/google.python.pip/pip/lib/python3.9/site-packages/flask/app.py\", line 1950, in full_dispatch_request\n",
            "                                                              rv = self.dispatch_request()\n",
            "                                                            File \"/layers/google.python.pip/pip/lib/python3.9/site-packages/flask/app.py\", line 1936, in dispatch_request\n",
            "                                                              return self.view_functions[rule.endpoint](**req.view_args)\n",
            "                                                            File \"/layers/google.python.pip/pip/lib/python3.9/site-packages/functions_framework/__init__.py\", line 152, in view_func\n",
            "                                                              function(data, context)\n",
            "                                                            File \"/workspace/main.py\", line 54, in run_upload\n",
            "                                                              update_gcs(predictions)\n",
            "                                                            File \"/workspace/main.py\", line 105, in update_gcs\n",
            "                                                              storage_client = storage.Client.from_service_account_json('./aiffel-gn-3-1dcb97107eaa.json')\n",
            "                                                            File \"/layers/google.python.pip/pip/lib/python3.9/site-packages/google/cloud/client/__init__.py\", line 106, in from_service_account_json\n",
            "                                                              with io.open(json_credentials_path, \"r\", encoding=\"utf-8\") as json_fi:\n",
            "                                                          FileNotFoundError: [Errno 2] No such file or directory: './aiffel-gn-3-1dcb97107eaa.json'\n",
            "       run_upload  kdq5whttxejw  2021-12-07 06:33:51.922  [2021-12-07 06:33:51,914] ERROR in app: Exception on /_ah/push-handlers/pubsub/projects/g08ee7bfc59c693acp-tp/topics/cloud-functions-uqmbnrrci664rlbpsfsnlufuim [POST]\n",
            "       run_upload  kdq5whttxejw  2021-12-07 06:33:51.913  Predict_test:  ./sample_images/output/output_0253_dent.png\n",
            "       run_upload  kdq5whttxejw  2021-12-07 06:33:51.913  Predict:  images-original/originals/img_0253.png\n",
            "       run_upload  kdq5whttxejw  2021-12-07 06:33:51.913  success\n",
            "       run_upload  kdq5whttxejw  2021-12-07 06:33:45.694  Updated: 2021-12-07T06:33:44.424Z\n",
            "       run_upload  kdq5whttxejw  2021-12-07 06:33:45.694  Created: 2021-12-07T06:33:44.424Z\n",
            "       run_upload  kdq5whttxejw  2021-12-07 06:33:45.694  Metageneration: 1\n",
            "       run_upload  kdq5whttxejw  2021-12-07 06:33:45.694  File: originals/img_0253.png\n",
            "       run_upload  kdq5whttxejw  2021-12-07 06:33:45.694  Bucket: images-original\n",
            "       run_upload  kdq5whttxejw  2021-12-07 06:33:45.694  Event type: google.storage.object.finalize\n",
            "       run_upload  kdq5whttxejw  2021-12-07 06:33:45.694  Event ID: 3492245717213026\n",
            "D      run_upload  kdq5whttxejw  2021-12-07 06:33:45.679  Function execution started\n",
            "       run_upload                2021-12-07 06:31:03.069  Predict_test:  ./sample_images/output/output_0253_dent.png\n",
            "       run_upload                2021-12-07 06:31:03.069  Predict:  images-original/img_0253.png\n",
            "D      run_upload  kwlxc2ml6oz1  2021-12-05 16:27:20.455  Function execution took 4506 ms, finished with status: 'ok'\n",
            "       run_upload  kwlxc2ml6oz1  2021-12-05 16:27:20.453  Predict:  images-original/data/PNG_MASKS+EXTRA_DATA/spacing/valid/masks/20190818_491721566054381793.png\n",
            "       run_upload  kwlxc2ml6oz1  2021-12-05 16:27:20.453  success\n",
            "D      run_upload  l5qg9hepkakb  2021-12-05 16:27:20.033  Function execution took 4346 ms, finished with status: 'ok'\n",
            "       run_upload  l5qg9hepkakb  2021-12-05 16:27:20.032  Predict:  images-original/data/PNG_MASKS+EXTRA_DATA/spacing/valid/masks/20190725_464041564053722217.png\n",
            "       run_upload  l5qg9hepkakb  2021-12-05 16:27:20.032  success\n",
            "D      run_upload  vs3cugu38qe3  2021-12-05 16:27:20.027  Function execution took 4240 ms, finished with status: 'ok'\n",
            "       run_upload  vs3cugu38qe3  2021-12-05 16:27:20.025  Predict:  images-original/data/PNG_MASKS+EXTRA_DATA/spacing/valid/masks/20190811_483621565490529309.png\n",
            "       run_upload  vs3cugu38qe3  2021-12-05 16:27:20.025  success\n",
            "D      run_upload  c3361fxt9n3k  2021-12-05 16:27:20.021  Function execution took 4244 ms, finished with status: 'ok'\n",
            "       run_upload  c3361fxt9n3k  2021-12-05 16:27:20.019  Predict:  images-original/data/PNG_MASKS+EXTRA_DATA/spacing/valid/masks/20190727_466441564231135871.png\n"
          ]
        }
      ]
    },
    {
      "cell_type": "markdown",
      "metadata": {
        "id": "8aVjubnppGID"
      },
      "source": [
        "# Check the Database to see a new row is created succesfully"
      ]
    },
    {
      "cell_type": "code",
      "metadata": {
        "id": "9hDnKuHgXSFX",
        "colab": {
          "base_uri": "https://localhost:8080/"
        },
        "outputId": "e410ebcc-0c00-4c0d-94fc-9dbd21d3c3b4"
      },
      "source": [
        "!gcloud sql connect viai-images --user=postgres --quiet"
      ],
      "execution_count": null,
      "outputs": [
        {
          "output_type": "stream",
          "name": "stdout",
          "text": [
            "Connecting to database with SQL user [postgres].Password for user postgres: "
          ]
        }
      ]
    },
    {
      "cell_type": "code",
      "metadata": {
        "id": "IW7C4mXlvsPC"
      },
      "source": [
        "!sudo apt-get -y -qq install postgresql"
      ],
      "execution_count": null,
      "outputs": []
    }
  ]
}